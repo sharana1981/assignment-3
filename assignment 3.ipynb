{
 "cells": [
  {
   "cell_type": "markdown",
   "id": "060336a2",
   "metadata": {},
   "source": [
    " 1) the advantage of having a function in our code is reducing the number of lines of code by reusability\n",
    " 2) the code in the funnction executes only when the function is called\n",
    " 3) the keyword \"def:\" creates a function\n",
    " 4) The difference between function and functioncall is function is a set of code which performs a particular task but funcrtion     call is used to execute a function\n",
    " 5) there is only one global scope in python and 4 local scope in python\n",
    " 6) when the function call returns the local scope get destroyed\n",
    " 7) the return is keyword which gives the actual output of function.it is possible to have a return value inside a expression\n",
    " 8) if function doesnot have a return statement the function return a 'None' during function call\n",
    " 9) function variable/local variaable can be made as global variable by using 'global' keyword but it should be the first   instruction in the function body\n",
    " 10) the data type of 'None' is None type\n",
    " 11) the import statement imports amodule called 'areallyourpetsnamederic'\n",
    " 12) if we had bacon() feature in spam module.we call it by spam.bacon()\n",
    " 13) we can save the program from crashing when it throws an error by using concept of exception handling\n",
    " 14) The purpose of try clause is to identify the error and handle it without terminating it.except clause helps to show the message that developer is trying to say regarding the error.\n",
    " "
   ]
  }
 ],
 "metadata": {
  "kernelspec": {
   "display_name": "Python 3 (ipykernel)",
   "language": "python",
   "name": "python3"
  },
  "language_info": {
   "codemirror_mode": {
    "name": "ipython",
    "version": 3
   },
   "file_extension": ".py",
   "mimetype": "text/x-python",
   "name": "python",
   "nbconvert_exporter": "python",
   "pygments_lexer": "ipython3",
   "version": "3.9.12"
  }
 },
 "nbformat": 4,
 "nbformat_minor": 5
}
